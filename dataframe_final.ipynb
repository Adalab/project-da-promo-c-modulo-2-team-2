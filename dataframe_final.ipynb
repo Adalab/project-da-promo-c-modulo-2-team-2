{
 "cells": [
  {
   "cell_type": "markdown",
   "metadata": {},
   "source": [
    "### DATAFRAME"
   ]
  },
  {
   "cell_type": "code",
   "execution_count": 40,
   "metadata": {},
   "outputs": [],
   "source": [
    "import re\n",
    "import os\n",
    "import xml.etree.ElementTree as ET\n",
    "import mysql.connector \n",
    "import pandas as pd\n",
    "import numpy as np\n",
    "import matplotlib.pyplot as plt\n",
    "import seaborn as sns"
   ]
  },
  {
   "cell_type": "code",
   "execution_count": 24,
   "metadata": {},
   "outputs": [],
   "source": [
    "cnx = mysql.connector.connect(user='root', password='AlumnaAdalab',\n",
    "                              host='127.0.0.1',\n",
    "                              database='proyecto_1_equipo_1')\n",
    "mycursor = cnx.cursor()\n",
    "mycursor.execute(\"\"\"SELECT xml.age, txt.q3, txt.q4, txt.q5, txt.q20, txt.q21\n",
    "                    FROM data_txt AS txt\n",
    "                    INNER JOIN data_xml AS xml\n",
    "                    ON txt.index_sql = xml.index_sql\n",
    "                    WHERE xml.gender = \"Woman\";\"\"\")\n",
    "\n",
    "myresult = mycursor.fetchall()\n",
    "df_proyecto = pd.DataFrame(myresult, columns = [\"edad\",\"pais\", \"nivel de estudios\", \"puesto de trabajo\", \"sector\", \"tamaño de la compañia\"])\n",
    "cnx.close()"
   ]
  },
  {
   "cell_type": "code",
   "execution_count": 25,
   "metadata": {},
   "outputs": [
    {
     "data": {
      "text/html": [
       "<div>\n",
       "<style scoped>\n",
       "    .dataframe tbody tr th:only-of-type {\n",
       "        vertical-align: middle;\n",
       "    }\n",
       "\n",
       "    .dataframe tbody tr th {\n",
       "        vertical-align: top;\n",
       "    }\n",
       "\n",
       "    .dataframe thead th {\n",
       "        text-align: right;\n",
       "    }\n",
       "</style>\n",
       "<table border=\"1\" class=\"dataframe\">\n",
       "  <thead>\n",
       "    <tr style=\"text-align: right;\">\n",
       "      <th></th>\n",
       "      <th>edad</th>\n",
       "      <th>pais</th>\n",
       "      <th>nivel de estudios</th>\n",
       "      <th>puesto de trabajo</th>\n",
       "      <th>sector</th>\n",
       "      <th>tamaño de la compañia</th>\n",
       "    </tr>\n",
       "  </thead>\n",
       "  <tbody>\n",
       "    <tr>\n",
       "      <th>0</th>\n",
       "      <td>25-29</td>\n",
       "      <td>India</td>\n",
       "      <td>I prefer not to answer</td>\n",
       "      <td>Currently not employed</td>\n",
       "      <td></td>\n",
       "      <td></td>\n",
       "    </tr>\n",
       "    <tr>\n",
       "      <th>1</th>\n",
       "      <td>18-21</td>\n",
       "      <td>India</td>\n",
       "      <td>Some college/university study without earning ...</td>\n",
       "      <td>Student</td>\n",
       "      <td></td>\n",
       "      <td></td>\n",
       "    </tr>\n",
       "    <tr>\n",
       "      <th>2</th>\n",
       "      <td>18-21</td>\n",
       "      <td>India</td>\n",
       "      <td>Masterâ€™s degree</td>\n",
       "      <td>Student</td>\n",
       "      <td></td>\n",
       "      <td></td>\n",
       "    </tr>\n",
       "    <tr>\n",
       "      <th>3</th>\n",
       "      <td>18-21</td>\n",
       "      <td>India</td>\n",
       "      <td>Masterâ€™s degree</td>\n",
       "      <td>Student</td>\n",
       "      <td></td>\n",
       "      <td></td>\n",
       "    </tr>\n",
       "    <tr>\n",
       "      <th>4</th>\n",
       "      <td>25-29</td>\n",
       "      <td>Turkey</td>\n",
       "      <td>Bachelorâ€™s degree</td>\n",
       "      <td>Data Scientist</td>\n",
       "      <td>Computers/Technology</td>\n",
       "      <td>10,000 or more employees</td>\n",
       "    </tr>\n",
       "    <tr>\n",
       "      <th>...</th>\n",
       "      <td>...</td>\n",
       "      <td>...</td>\n",
       "      <td>...</td>\n",
       "      <td>...</td>\n",
       "      <td>...</td>\n",
       "      <td>...</td>\n",
       "    </tr>\n",
       "    <tr>\n",
       "      <th>4885</th>\n",
       "      <td>18-21</td>\n",
       "      <td>India</td>\n",
       "      <td>Some college/university study without earning ...</td>\n",
       "      <td>Student</td>\n",
       "      <td></td>\n",
       "      <td></td>\n",
       "    </tr>\n",
       "    <tr>\n",
       "      <th>4886</th>\n",
       "      <td>18-21</td>\n",
       "      <td>India</td>\n",
       "      <td>Bachelorâ€™s degree</td>\n",
       "      <td>Machine Learning Engineer</td>\n",
       "      <td>Academics/Education</td>\n",
       "      <td>0-49 employees</td>\n",
       "    </tr>\n",
       "    <tr>\n",
       "      <th>4887</th>\n",
       "      <td>18-21</td>\n",
       "      <td>India</td>\n",
       "      <td>Bachelorâ€™s degree</td>\n",
       "      <td>Student</td>\n",
       "      <td></td>\n",
       "      <td></td>\n",
       "    </tr>\n",
       "    <tr>\n",
       "      <th>4888</th>\n",
       "      <td>22-24</td>\n",
       "      <td>Taiwan</td>\n",
       "      <td>Masterâ€™s degree</td>\n",
       "      <td>Student</td>\n",
       "      <td></td>\n",
       "      <td></td>\n",
       "    </tr>\n",
       "    <tr>\n",
       "      <th>4889</th>\n",
       "      <td>25-29</td>\n",
       "      <td>Pakistan</td>\n",
       "      <td>Masterâ€™s degree</td>\n",
       "      <td>Machine Learning Engineer</td>\n",
       "      <td>Online Service/Internet-based Services</td>\n",
       "      <td>10,000 or more employees</td>\n",
       "    </tr>\n",
       "  </tbody>\n",
       "</table>\n",
       "<p>4890 rows × 6 columns</p>\n",
       "</div>"
      ],
      "text/plain": [
       "       edad      pais                                  nivel de estudios  \\\n",
       "0     25-29     India                             I prefer not to answer   \n",
       "1     18-21     India  Some college/university study without earning ...   \n",
       "2     18-21     India                                  Masterâ€™s degree   \n",
       "3     18-21     India                                  Masterâ€™s degree   \n",
       "4     25-29    Turkey                                Bachelorâ€™s degree   \n",
       "...     ...       ...                                                ...   \n",
       "4885  18-21     India  Some college/university study without earning ...   \n",
       "4886  18-21     India                                Bachelorâ€™s degree   \n",
       "4887  18-21     India                                Bachelorâ€™s degree   \n",
       "4888  22-24    Taiwan                                  Masterâ€™s degree   \n",
       "4889  25-29  Pakistan                                  Masterâ€™s degree   \n",
       "\n",
       "              puesto de trabajo                                  sector  \\\n",
       "0        Currently not employed                                           \n",
       "1                       Student                                           \n",
       "2                       Student                                           \n",
       "3                       Student                                           \n",
       "4                Data Scientist                    Computers/Technology   \n",
       "...                         ...                                     ...   \n",
       "4885                    Student                                           \n",
       "4886  Machine Learning Engineer                     Academics/Education   \n",
       "4887                    Student                                           \n",
       "4888                    Student                                           \n",
       "4889  Machine Learning Engineer  Online Service/Internet-based Services   \n",
       "\n",
       "         tamaño de la compañia  \n",
       "0                               \n",
       "1                               \n",
       "2                               \n",
       "3                               \n",
       "4     10,000 or more employees  \n",
       "...                        ...  \n",
       "4885                            \n",
       "4886            0-49 employees  \n",
       "4887                            \n",
       "4888                            \n",
       "4889  10,000 or more employees  \n",
       "\n",
       "[4890 rows x 6 columns]"
      ]
     },
     "execution_count": 25,
     "metadata": {},
     "output_type": "execute_result"
    }
   ],
   "source": [
    "df_proyecto"
   ]
  },
  {
   "cell_type": "code",
   "execution_count": 26,
   "metadata": {},
   "outputs": [
    {
     "data": {
      "text/plain": [
       "array(['India', 'Turkey', 'Poland', 'Iran, Islamic Republic of...',\n",
       "       'Egypt', 'Brazil', 'Viet Nam', 'United States of America',\n",
       "       'Bangladesh', 'Indonesia', 'Russia', 'Italy', 'Argentina',\n",
       "       'Singapore', 'Sweden', 'Canada', 'Other', 'Morocco', 'Taiwan',\n",
       "       'Tunisia', 'Ireland', 'Hong Kong (S.A.R.)', 'Israel', 'Pakistan',\n",
       "       'Philippines', 'Nigeria', 'Sri Lanka',\n",
       "       'United Kingdom of Great Britain and Northern Ireland',\n",
       "       'United Arab Emirates', 'Thailand', 'Colombia', 'Spain', 'Japan',\n",
       "       'Germany', 'China', 'Belgium', 'Austria', 'Mexico', 'South Korea',\n",
       "       'France', 'Romania', 'Ukraine', 'Saudi Arabia', 'Kenya',\n",
       "       'Netherlands', 'Portugal', 'Australia', 'Malaysia', 'South Africa',\n",
       "       'Algeria', 'Kazakhstan', 'Peru', 'Norway', 'Ecuador',\n",
       "       'Czech Republic', 'Greece', 'Switzerland',\n",
       "       'I do not wish to disclose my location', 'Nepal', 'Ghana',\n",
       "       'Denmark', 'Uganda', 'Ethiopia', 'Iraq', 'Chile', 'Belarus'],\n",
       "      dtype=object)"
      ]
     },
     "execution_count": 26,
     "metadata": {},
     "output_type": "execute_result"
    }
   ],
   "source": [
    "df_proyecto[\"pais\"].unique()\n",
    "\n"
   ]
  },
  {
   "cell_type": "code",
   "execution_count": 27,
   "metadata": {},
   "outputs": [
    {
     "ename": "ValueError",
     "evalue": "('Lengths must match to compare', (4890,), (20,))",
     "output_type": "error",
     "traceback": [
      "\u001b[1;31m---------------------------------------------------------------------------\u001b[0m",
      "\u001b[1;31mValueError\u001b[0m                                Traceback (most recent call last)",
      "Cell \u001b[1;32mIn [27], line 1\u001b[0m\n\u001b[1;32m----> 1\u001b[0m condicion \u001b[39m=\u001b[39m [df_proyecto[\u001b[39m\"\u001b[39;49m\u001b[39mpais\u001b[39;49m\u001b[39m\"\u001b[39;49m] \u001b[39m==\u001b[39;49m [\u001b[39m'\u001b[39;49m\u001b[39mIndia\u001b[39;49m\u001b[39m'\u001b[39;49m, \u001b[39m'\u001b[39;49m\u001b[39mTurkey\u001b[39;49m\u001b[39m'\u001b[39;49m,\u001b[39m'\u001b[39;49m\u001b[39mViet Nam\u001b[39;49m\u001b[39m'\u001b[39;49m, \u001b[39m'\u001b[39;49m\u001b[39mBangladesh\u001b[39;49m\u001b[39m'\u001b[39;49m, \u001b[39m'\u001b[39;49m\u001b[39mIndonesia\u001b[39;49m\u001b[39m'\u001b[39;49m, \n\u001b[0;32m      2\u001b[0m         \u001b[39m'\u001b[39;49m\u001b[39mSingapore\u001b[39;49m\u001b[39m'\u001b[39;49m, \u001b[39m'\u001b[39;49m\u001b[39mTaiwan\u001b[39;49m\u001b[39m'\u001b[39;49m, \u001b[39m'\u001b[39;49m\u001b[39mHong Kong (S.A.R.)\u001b[39;49m\u001b[39m'\u001b[39;49m, \u001b[39m'\u001b[39;49m\u001b[39mIsrael\u001b[39;49m\u001b[39m'\u001b[39;49m, \u001b[39m'\u001b[39;49m\u001b[39mPakistan\u001b[39;49m\u001b[39m'\u001b[39;49m, \u001b[39m'\u001b[39;49m\u001b[39mPhilippines\u001b[39;49m\u001b[39m'\u001b[39;49m, \u001b[39m'\u001b[39;49m\u001b[39mUnited Arab Emirates\u001b[39;49m\u001b[39m'\u001b[39;49m, \u001b[39m'\u001b[39;49m\u001b[39mThailand\u001b[39;49m\u001b[39m'\u001b[39;49m, \u001b[39m'\u001b[39;49m\u001b[39mJapan\u001b[39;49m\u001b[39m'\u001b[39;49m, \u001b[39m'\u001b[39;49m\u001b[39mChina\u001b[39;49m\u001b[39m'\u001b[39;49m, \u001b[39m'\u001b[39;49m\u001b[39mSouth Korea\u001b[39;49m\u001b[39m'\u001b[39;49m, \n\u001b[0;32m      3\u001b[0m        \u001b[39m'\u001b[39;49m\u001b[39mSaudi Arabia\u001b[39;49m\u001b[39m'\u001b[39;49m, \u001b[39m'\u001b[39;49m\u001b[39mMalaysia\u001b[39;49m\u001b[39m'\u001b[39;49m, \u001b[39m'\u001b[39;49m\u001b[39mKazakhstan\u001b[39;49m\u001b[39m'\u001b[39;49m, \u001b[39m'\u001b[39;49m\u001b[39mNepal\u001b[39;49m\u001b[39m'\u001b[39;49m], \n\u001b[0;32m      4\u001b[0m        df_proyecto[\u001b[39m\"\u001b[39m\u001b[39mpais\u001b[39m\u001b[39m\"\u001b[39m] \u001b[39m==\u001b[39m [\u001b[39m'\u001b[39m\u001b[39mIran, Islamic Republic of...\u001b[39m\u001b[39m'\u001b[39m, \u001b[39m'\u001b[39m\u001b[39mEgypt\u001b[39m\u001b[39m'\u001b[39m,\u001b[39m'\u001b[39m\u001b[39mMorocco\u001b[39m\u001b[39m'\u001b[39m,\u001b[39m'\u001b[39m\u001b[39mTunisia\u001b[39m\u001b[39m'\u001b[39m,\u001b[39m'\u001b[39m\u001b[39mNigeria\u001b[39m\u001b[39m'\u001b[39m,\u001b[39m'\u001b[39m\u001b[39mKenya\u001b[39m\u001b[39m'\u001b[39m,\u001b[39m'\u001b[39m\u001b[39mSouth Africa\u001b[39m\u001b[39m'\u001b[39m,\n\u001b[0;32m      5\u001b[0m        \u001b[39m'\u001b[39m\u001b[39mAlgeria\u001b[39m\u001b[39m'\u001b[39m,\u001b[39m'\u001b[39m\u001b[39mGhana\u001b[39m\u001b[39m'\u001b[39m,\u001b[39m'\u001b[39m\u001b[39mUganda\u001b[39m\u001b[39m'\u001b[39m, \u001b[39m'\u001b[39m\u001b[39mEthiopia\u001b[39m\u001b[39m'\u001b[39m, \u001b[39m'\u001b[39m\u001b[39mIraq\u001b[39m\u001b[39m'\u001b[39m],\n\u001b[0;32m      6\u001b[0m        df_proyecto[\u001b[39m\"\u001b[39m\u001b[39mpais\u001b[39m\u001b[39m\"\u001b[39m] \u001b[39m==\u001b[39m [\u001b[39m'\u001b[39m\u001b[39mPoland\u001b[39m\u001b[39m'\u001b[39m,\u001b[39m'\u001b[39m\u001b[39mRussia\u001b[39m\u001b[39m'\u001b[39m, \u001b[39m'\u001b[39m\u001b[39mItaly\u001b[39m\u001b[39m'\u001b[39m, \u001b[39m'\u001b[39m\u001b[39mSweden\u001b[39m\u001b[39m'\u001b[39m,\n\u001b[0;32m      7\u001b[0m        \u001b[39m'\u001b[39m\u001b[39mIreland\u001b[39m\u001b[39m'\u001b[39m, \u001b[39m'\u001b[39m\u001b[39mUnited Kingdom of Great Britain and Northern Ireland\u001b[39m\u001b[39m'\u001b[39m,\u001b[39m'\u001b[39m\u001b[39mSpain\u001b[39m\u001b[39m'\u001b[39m,\n\u001b[0;32m      8\u001b[0m        \u001b[39m'\u001b[39m\u001b[39mGermany\u001b[39m\u001b[39m'\u001b[39m, \u001b[39m'\u001b[39m\u001b[39mBelgium\u001b[39m\u001b[39m'\u001b[39m, \u001b[39m'\u001b[39m\u001b[39mAustria\u001b[39m\u001b[39m'\u001b[39m,\n\u001b[0;32m      9\u001b[0m        \u001b[39m'\u001b[39m\u001b[39mFrance\u001b[39m\u001b[39m'\u001b[39m, \u001b[39m'\u001b[39m\u001b[39mRomania\u001b[39m\u001b[39m'\u001b[39m, \u001b[39m'\u001b[39m\u001b[39mUkraine\u001b[39m\u001b[39m'\u001b[39m, \n\u001b[0;32m     10\u001b[0m        \u001b[39m'\u001b[39m\u001b[39mNetherlands\u001b[39m\u001b[39m'\u001b[39m, \u001b[39m'\u001b[39m\u001b[39mPortugal\u001b[39m\u001b[39m'\u001b[39m, \u001b[39m'\u001b[39m\u001b[39mNorway\u001b[39m\u001b[39m'\u001b[39m,\n\u001b[0;32m     11\u001b[0m        \u001b[39m'\u001b[39m\u001b[39mCzech Republic\u001b[39m\u001b[39m'\u001b[39m, \u001b[39m'\u001b[39m\u001b[39mGreece\u001b[39m\u001b[39m'\u001b[39m, \u001b[39m'\u001b[39m\u001b[39mSwitzerland\u001b[39m\u001b[39m'\u001b[39m,\n\u001b[0;32m     12\u001b[0m        \u001b[39m'\u001b[39m\u001b[39mDenmark\u001b[39m\u001b[39m'\u001b[39m,\u001b[39m'\u001b[39m\u001b[39mBelarus\u001b[39m\u001b[39m'\u001b[39m],\n\u001b[0;32m     13\u001b[0m        df_proyecto[\u001b[39m\"\u001b[39m\u001b[39mpais\u001b[39m\u001b[39m\"\u001b[39m] \u001b[39m==\u001b[39m [\u001b[39m'\u001b[39m\u001b[39mUnited States of America\u001b[39m\u001b[39m'\u001b[39m,\u001b[39m'\u001b[39m\u001b[39mCanada\u001b[39m\u001b[39m'\u001b[39m],\n\u001b[0;32m     14\u001b[0m         df_proyecto[\u001b[39m\"\u001b[39m\u001b[39mpais\u001b[39m\u001b[39m\"\u001b[39m] \u001b[39m==\u001b[39m [\n\u001b[0;32m     15\u001b[0m        \u001b[39m'\u001b[39m\u001b[39mBrazil\u001b[39m\u001b[39m'\u001b[39m, \u001b[39m'\u001b[39m\u001b[39mArgentina\u001b[39m\u001b[39m'\u001b[39m,\n\u001b[0;32m     16\u001b[0m        \u001b[39m'\u001b[39m\u001b[39mColombia\u001b[39m\u001b[39m'\u001b[39m, \u001b[39m'\u001b[39m\u001b[39mMexico\u001b[39m\u001b[39m'\u001b[39m, \u001b[39m'\u001b[39m\u001b[39mPeru\u001b[39m\u001b[39m'\u001b[39m, \u001b[39m'\u001b[39m\u001b[39mEcuador\u001b[39m\u001b[39m'\u001b[39m,\n\u001b[0;32m     17\u001b[0m        \u001b[39m'\u001b[39m\u001b[39mChile\u001b[39m\u001b[39m'\u001b[39m],\n\u001b[0;32m     18\u001b[0m        df_proyecto[\u001b[39m\"\u001b[39m\u001b[39mpais\u001b[39m\u001b[39m\"\u001b[39m] \u001b[39m==\u001b[39m [\u001b[39m'\u001b[39m\u001b[39mAustralia\u001b[39m\u001b[39m'\u001b[39m]\n\u001b[0;32m     19\u001b[0m        ]\n",
      "File \u001b[1;32m~\\AppData\\Local\\Packages\\PythonSoftwareFoundation.Python.3.10_qbz5n2kfra8p0\\LocalCache\\local-packages\\Python310\\site-packages\\pandas\\core\\ops\\common.py:72\u001b[0m, in \u001b[0;36m_unpack_zerodim_and_defer.<locals>.new_method\u001b[1;34m(self, other)\u001b[0m\n\u001b[0;32m     68\u001b[0m             \u001b[39mreturn\u001b[39;00m \u001b[39mNotImplemented\u001b[39m\n\u001b[0;32m     70\u001b[0m other \u001b[39m=\u001b[39m item_from_zerodim(other)\n\u001b[1;32m---> 72\u001b[0m \u001b[39mreturn\u001b[39;00m method(\u001b[39mself\u001b[39;49m, other)\n",
      "File \u001b[1;32m~\\AppData\\Local\\Packages\\PythonSoftwareFoundation.Python.3.10_qbz5n2kfra8p0\\LocalCache\\local-packages\\Python310\\site-packages\\pandas\\core\\arraylike.py:42\u001b[0m, in \u001b[0;36mOpsMixin.__eq__\u001b[1;34m(self, other)\u001b[0m\n\u001b[0;32m     40\u001b[0m \u001b[39m@unpack_zerodim_and_defer\u001b[39m(\u001b[39m\"\u001b[39m\u001b[39m__eq__\u001b[39m\u001b[39m\"\u001b[39m)\n\u001b[0;32m     41\u001b[0m \u001b[39mdef\u001b[39;00m \u001b[39m__eq__\u001b[39m(\u001b[39mself\u001b[39m, other):\n\u001b[1;32m---> 42\u001b[0m     \u001b[39mreturn\u001b[39;00m \u001b[39mself\u001b[39;49m\u001b[39m.\u001b[39;49m_cmp_method(other, operator\u001b[39m.\u001b[39;49meq)\n",
      "File \u001b[1;32m~\\AppData\\Local\\Packages\\PythonSoftwareFoundation.Python.3.10_qbz5n2kfra8p0\\LocalCache\\local-packages\\Python310\\site-packages\\pandas\\core\\series.py:6243\u001b[0m, in \u001b[0;36mSeries._cmp_method\u001b[1;34m(self, other, op)\u001b[0m\n\u001b[0;32m   6240\u001b[0m rvalues \u001b[39m=\u001b[39m extract_array(other, extract_numpy\u001b[39m=\u001b[39m\u001b[39mTrue\u001b[39;00m, extract_range\u001b[39m=\u001b[39m\u001b[39mTrue\u001b[39;00m)\n\u001b[0;32m   6242\u001b[0m \u001b[39mwith\u001b[39;00m np\u001b[39m.\u001b[39merrstate(\u001b[39mall\u001b[39m\u001b[39m=\u001b[39m\u001b[39m\"\u001b[39m\u001b[39mignore\u001b[39m\u001b[39m\"\u001b[39m):\n\u001b[1;32m-> 6243\u001b[0m     res_values \u001b[39m=\u001b[39m ops\u001b[39m.\u001b[39;49mcomparison_op(lvalues, rvalues, op)\n\u001b[0;32m   6245\u001b[0m \u001b[39mreturn\u001b[39;00m \u001b[39mself\u001b[39m\u001b[39m.\u001b[39m_construct_result(res_values, name\u001b[39m=\u001b[39mres_name)\n",
      "File \u001b[1;32m~\\AppData\\Local\\Packages\\PythonSoftwareFoundation.Python.3.10_qbz5n2kfra8p0\\LocalCache\\local-packages\\Python310\\site-packages\\pandas\\core\\ops\\array_ops.py:264\u001b[0m, in \u001b[0;36mcomparison_op\u001b[1;34m(left, right, op)\u001b[0m\n\u001b[0;32m    259\u001b[0m \u001b[39mif\u001b[39;00m \u001b[39misinstance\u001b[39m(rvalues, (np\u001b[39m.\u001b[39mndarray, ABCExtensionArray)):\n\u001b[0;32m    260\u001b[0m     \u001b[39m# TODO: make this treatment consistent across ops and classes.\u001b[39;00m\n\u001b[0;32m    261\u001b[0m     \u001b[39m#  We are not catching all listlikes here (e.g. frozenset, tuple)\u001b[39;00m\n\u001b[0;32m    262\u001b[0m     \u001b[39m#  The ambiguous case is object-dtype.  See GH#27803\u001b[39;00m\n\u001b[0;32m    263\u001b[0m     \u001b[39mif\u001b[39;00m \u001b[39mlen\u001b[39m(lvalues) \u001b[39m!=\u001b[39m \u001b[39mlen\u001b[39m(rvalues):\n\u001b[1;32m--> 264\u001b[0m         \u001b[39mraise\u001b[39;00m \u001b[39mValueError\u001b[39;00m(\n\u001b[0;32m    265\u001b[0m             \u001b[39m\"\u001b[39m\u001b[39mLengths must match to compare\u001b[39m\u001b[39m\"\u001b[39m, lvalues\u001b[39m.\u001b[39mshape, rvalues\u001b[39m.\u001b[39mshape\n\u001b[0;32m    266\u001b[0m         )\n\u001b[0;32m    268\u001b[0m \u001b[39mif\u001b[39;00m should_extension_dispatch(lvalues, rvalues) \u001b[39mor\u001b[39;00m (\n\u001b[0;32m    269\u001b[0m     (\u001b[39misinstance\u001b[39m(rvalues, (Timedelta, BaseOffset, Timestamp)) \u001b[39mor\u001b[39;00m right \u001b[39mis\u001b[39;00m NaT)\n\u001b[0;32m    270\u001b[0m     \u001b[39mand\u001b[39;00m \u001b[39mnot\u001b[39;00m is_object_dtype(lvalues\u001b[39m.\u001b[39mdtype)\n\u001b[0;32m    271\u001b[0m ):\n\u001b[0;32m    272\u001b[0m     \u001b[39m# Call the method on lvalues\u001b[39;00m\n\u001b[0;32m    273\u001b[0m     res_values \u001b[39m=\u001b[39m op(lvalues, rvalues)\n",
      "\u001b[1;31mValueError\u001b[0m: ('Lengths must match to compare', (4890,), (20,))"
     ]
    }
   ],
   "source": [
    "condicion = [df_proyecto[\"pais\"] == ['India', 'Turkey','Viet Nam', 'Bangladesh', 'Indonesia', \n",
    "        'Singapore', 'Taiwan', 'Hong Kong (S.A.R.)', 'Israel', 'Pakistan', 'Philippines', 'United Arab Emirates', 'Thailand', 'Japan', 'China', 'South Korea', \n",
    "       'Saudi Arabia', 'Malaysia', 'Kazakhstan', 'Nepal'], \n",
    "       df_proyecto[\"pais\"] == ['Iran, Islamic Republic of...', 'Egypt','Morocco','Tunisia','Nigeria','Kenya','South Africa',\n",
    "       'Algeria','Ghana','Uganda', 'Ethiopia', 'Iraq'],\n",
    "       df_proyecto[\"pais\"] == ['Poland','Russia', 'Italy', 'Sweden',\n",
    "       'Ireland', 'United Kingdom of Great Britain and Northern Ireland','Spain',\n",
    "       'Germany', 'Belgium', 'Austria',\n",
    "       'France', 'Romania', 'Ukraine', \n",
    "       'Netherlands', 'Portugal', 'Norway',\n",
    "       'Czech Republic', 'Greece', 'Switzerland',\n",
    "       'Denmark','Belarus'],\n",
    "       df_proyecto[\"pais\"] == ['United States of America','Canada'],\n",
    "        df_proyecto[\"pais\"] == [\n",
    "       'Brazil', 'Argentina',\n",
    "       'Colombia', 'Mexico', 'Peru', 'Ecuador',\n",
    "       'Chile'],\n",
    "       df_proyecto[\"pais\"] == ['Australia']\n",
    "       ]"
   ]
  },
  {
   "attachments": {},
   "cell_type": "markdown",
   "metadata": {},
   "source": [
    "       Incluimos a los hombres en la consulta y creamos una nueva columna con los continentes usando \"apply()\"."
   ]
  },
  {
   "cell_type": "code",
   "execution_count": 28,
   "metadata": {},
   "outputs": [],
   "source": [
    "cnx = mysql.connector.connect(user='root', password='AlumnaAdalab',\n",
    "                              host='127.0.0.1',\n",
    "                              database='proyecto_1_equipo_1')\n",
    "mycursor = cnx.cursor()\n",
    "mycursor.execute(\"\"\"SELECT xml.gender, xml.age, txt.q3, txt.q4, txt.q5, txt.q20, txt.q21\n",
    "                    FROM data_txt AS txt\n",
    "                    INNER JOIN data_xml AS xml\n",
    "                    ON txt.index_sql = xml.index_sql ;\"\"\")\n",
    "\n",
    "myresult = mycursor.fetchall()\n",
    "df_proyecto2 = pd.DataFrame(myresult, columns = [\"género\",\"edad\",\"pais\", \"nivel de estudios\", \"puesto de trabajo\", \"sector\", \"tamaño de la compañia\"])\n",
    "cnx.close()"
   ]
  },
  {
   "cell_type": "code",
   "execution_count": 29,
   "metadata": {},
   "outputs": [
    {
     "data": {
      "text/html": [
       "<div>\n",
       "<style scoped>\n",
       "    .dataframe tbody tr th:only-of-type {\n",
       "        vertical-align: middle;\n",
       "    }\n",
       "\n",
       "    .dataframe tbody tr th {\n",
       "        vertical-align: top;\n",
       "    }\n",
       "\n",
       "    .dataframe thead th {\n",
       "        text-align: right;\n",
       "    }\n",
       "</style>\n",
       "<table border=\"1\" class=\"dataframe\">\n",
       "  <thead>\n",
       "    <tr style=\"text-align: right;\">\n",
       "      <th></th>\n",
       "      <th>género</th>\n",
       "      <th>edad</th>\n",
       "      <th>pais</th>\n",
       "      <th>nivel de estudios</th>\n",
       "      <th>puesto de trabajo</th>\n",
       "      <th>sector</th>\n",
       "      <th>tamaño de la compañia</th>\n",
       "    </tr>\n",
       "  </thead>\n",
       "  <tbody>\n",
       "    <tr>\n",
       "      <th>0</th>\n",
       "      <td>Man</td>\n",
       "      <td>50-54</td>\n",
       "      <td>Indonesia</td>\n",
       "      <td>Masterâ€™s degree</td>\n",
       "      <td>Program/Project Manager</td>\n",
       "      <td>Manufacturing/Fabrication</td>\n",
       "      <td>1000-9,999 employees</td>\n",
       "    </tr>\n",
       "    <tr>\n",
       "      <th>1</th>\n",
       "      <td>Man</td>\n",
       "      <td>22-24</td>\n",
       "      <td>Pakistan</td>\n",
       "      <td>Masterâ€™s degree</td>\n",
       "      <td>Software Engineer</td>\n",
       "      <td>Academics/Education</td>\n",
       "      <td>1000-9,999 employees</td>\n",
       "    </tr>\n",
       "    <tr>\n",
       "      <th>2</th>\n",
       "      <td>Man</td>\n",
       "      <td>45-49</td>\n",
       "      <td>Mexico</td>\n",
       "      <td>Doctoral degree</td>\n",
       "      <td>Research Scientist</td>\n",
       "      <td>Academics/Education</td>\n",
       "      <td>1000-9,999 employees</td>\n",
       "    </tr>\n",
       "    <tr>\n",
       "      <th>3</th>\n",
       "      <td>Man</td>\n",
       "      <td>45-49</td>\n",
       "      <td>India</td>\n",
       "      <td>Doctoral degree</td>\n",
       "      <td>Other</td>\n",
       "      <td>Academics/Education</td>\n",
       "      <td>50-249 employees</td>\n",
       "    </tr>\n",
       "    <tr>\n",
       "      <th>4</th>\n",
       "      <td>Woman</td>\n",
       "      <td>25-29</td>\n",
       "      <td>India</td>\n",
       "      <td>I prefer not to answer</td>\n",
       "      <td>Currently not employed</td>\n",
       "      <td></td>\n",
       "      <td></td>\n",
       "    </tr>\n",
       "  </tbody>\n",
       "</table>\n",
       "</div>"
      ],
      "text/plain": [
       "  género   edad       pais       nivel de estudios        puesto de trabajo  \\\n",
       "0    Man  50-54  Indonesia       Masterâ€™s degree  Program/Project Manager   \n",
       "1    Man  22-24   Pakistan       Masterâ€™s degree        Software Engineer   \n",
       "2    Man  45-49     Mexico         Doctoral degree       Research Scientist   \n",
       "3    Man  45-49      India         Doctoral degree                    Other   \n",
       "4  Woman  25-29      India  I prefer not to answer   Currently not employed   \n",
       "\n",
       "                      sector tamaño de la compañia  \n",
       "0  Manufacturing/Fabrication  1000-9,999 employees  \n",
       "1        Academics/Education  1000-9,999 employees  \n",
       "2        Academics/Education  1000-9,999 employees  \n",
       "3        Academics/Education      50-249 employees  \n",
       "4                                                   "
      ]
     },
     "execution_count": 29,
     "metadata": {},
     "output_type": "execute_result"
    }
   ],
   "source": [
    "df_proyecto2.head()"
   ]
  },
  {
   "cell_type": "code",
   "execution_count": 30,
   "metadata": {},
   "outputs": [],
   "source": [
    "continente1 = ['India', 'Turkey','Viet Nam', 'Bangladesh', 'Indonesia', \n",
    "        'Singapore', 'Taiwan', 'Hong Kong (S.A.R.)', 'Israel', 'Pakistan', 'Philippines', 'United Arab Emirates', 'Thailand', 'Japan', 'China', 'South Korea', \n",
    "       'Saudi Arabia', 'Malaysia', 'Kazakhstan', 'Nepal']\n",
    "\n",
    "continente2 = ['Iran, Islamic Republic of...', 'Egypt','Morocco','Tunisia','Nigeria','Kenya','South Africa',\n",
    "       'Algeria','Ghana','Uganda', 'Ethiopia', 'Iraq']\n",
    "\n",
    "continente3 = ['Poland','Russia', 'Italy', 'Sweden',\n",
    "       'Ireland', 'United Kingdom of Great Britain and Northern Ireland','Spain',\n",
    "       'Germany', 'Belgium', 'Austria',\n",
    "       'France', 'Romania', 'Ukraine', \n",
    "       'Netherlands', 'Portugal', 'Norway',\n",
    "       'Czech Republic', 'Greece', 'Switzerland',\n",
    "       'Denmark','Belarus']\n",
    "\n",
    "continente4 = ['United States of America','Canada']\n",
    "\n",
    "continente5 = ['Brazil', 'Argentina','Colombia', 'Mexico', 'Peru', 'Ecuador','Chile']\n",
    "\n",
    "continente6 = ['Australia']"
   ]
  },
  {
   "cell_type": "code",
   "execution_count": 31,
   "metadata": {},
   "outputs": [],
   "source": [
    "def continente(pais):\n",
    "    if pais in continente1:\n",
    "        return \"Asia\"\n",
    "    elif pais in continente2:\n",
    "        return \"África\"\n",
    "    elif pais in continente3:\n",
    "        return \"Europa\"\n",
    "    elif pais in continente4:\n",
    "        return \"América del Norte\"\n",
    "    elif pais in continente5:\n",
    "        return \"América del Sur\"\n",
    "    elif pais in continente6:\n",
    "        return \"Oceanía\""
   ]
  },
  {
   "cell_type": "code",
   "execution_count": 32,
   "metadata": {},
   "outputs": [],
   "source": [
    "df_proyecto2[\"continente\"] = df_proyecto2[\"pais\"].apply(continente)"
   ]
  },
  {
   "cell_type": "code",
   "execution_count": 33,
   "metadata": {},
   "outputs": [
    {
     "data": {
      "text/html": [
       "<div>\n",
       "<style scoped>\n",
       "    .dataframe tbody tr th:only-of-type {\n",
       "        vertical-align: middle;\n",
       "    }\n",
       "\n",
       "    .dataframe tbody tr th {\n",
       "        vertical-align: top;\n",
       "    }\n",
       "\n",
       "    .dataframe thead th {\n",
       "        text-align: right;\n",
       "    }\n",
       "</style>\n",
       "<table border=\"1\" class=\"dataframe\">\n",
       "  <thead>\n",
       "    <tr style=\"text-align: right;\">\n",
       "      <th></th>\n",
       "      <th>género</th>\n",
       "      <th>edad</th>\n",
       "      <th>pais</th>\n",
       "      <th>nivel de estudios</th>\n",
       "      <th>puesto de trabajo</th>\n",
       "      <th>sector</th>\n",
       "      <th>tamaño de la compañia</th>\n",
       "      <th>continente</th>\n",
       "    </tr>\n",
       "  </thead>\n",
       "  <tbody>\n",
       "    <tr>\n",
       "      <th>0</th>\n",
       "      <td>Man</td>\n",
       "      <td>50-54</td>\n",
       "      <td>Indonesia</td>\n",
       "      <td>Masterâ€™s degree</td>\n",
       "      <td>Program/Project Manager</td>\n",
       "      <td>Manufacturing/Fabrication</td>\n",
       "      <td>1000-9,999 employees</td>\n",
       "      <td>Asia</td>\n",
       "    </tr>\n",
       "    <tr>\n",
       "      <th>1</th>\n",
       "      <td>Man</td>\n",
       "      <td>22-24</td>\n",
       "      <td>Pakistan</td>\n",
       "      <td>Masterâ€™s degree</td>\n",
       "      <td>Software Engineer</td>\n",
       "      <td>Academics/Education</td>\n",
       "      <td>1000-9,999 employees</td>\n",
       "      <td>Asia</td>\n",
       "    </tr>\n",
       "    <tr>\n",
       "      <th>2</th>\n",
       "      <td>Man</td>\n",
       "      <td>45-49</td>\n",
       "      <td>Mexico</td>\n",
       "      <td>Doctoral degree</td>\n",
       "      <td>Research Scientist</td>\n",
       "      <td>Academics/Education</td>\n",
       "      <td>1000-9,999 employees</td>\n",
       "      <td>América del Sur</td>\n",
       "    </tr>\n",
       "    <tr>\n",
       "      <th>3</th>\n",
       "      <td>Man</td>\n",
       "      <td>45-49</td>\n",
       "      <td>India</td>\n",
       "      <td>Doctoral degree</td>\n",
       "      <td>Other</td>\n",
       "      <td>Academics/Education</td>\n",
       "      <td>50-249 employees</td>\n",
       "      <td>Asia</td>\n",
       "    </tr>\n",
       "    <tr>\n",
       "      <th>4</th>\n",
       "      <td>Woman</td>\n",
       "      <td>25-29</td>\n",
       "      <td>India</td>\n",
       "      <td>I prefer not to answer</td>\n",
       "      <td>Currently not employed</td>\n",
       "      <td></td>\n",
       "      <td></td>\n",
       "      <td>Asia</td>\n",
       "    </tr>\n",
       "  </tbody>\n",
       "</table>\n",
       "</div>"
      ],
      "text/plain": [
       "  género   edad       pais       nivel de estudios        puesto de trabajo  \\\n",
       "0    Man  50-54  Indonesia       Masterâ€™s degree  Program/Project Manager   \n",
       "1    Man  22-24   Pakistan       Masterâ€™s degree        Software Engineer   \n",
       "2    Man  45-49     Mexico         Doctoral degree       Research Scientist   \n",
       "3    Man  45-49      India         Doctoral degree                    Other   \n",
       "4  Woman  25-29      India  I prefer not to answer   Currently not employed   \n",
       "\n",
       "                      sector tamaño de la compañia       continente  \n",
       "0  Manufacturing/Fabrication  1000-9,999 employees             Asia  \n",
       "1        Academics/Education  1000-9,999 employees             Asia  \n",
       "2        Academics/Education  1000-9,999 employees  América del Sur  \n",
       "3        Academics/Education      50-249 employees             Asia  \n",
       "4                                                              Asia  "
      ]
     },
     "execution_count": 33,
     "metadata": {},
     "output_type": "execute_result"
    }
   ],
   "source": [
    "df_proyecto2.head()"
   ]
  },
  {
   "attachments": {},
   "cell_type": "markdown",
   "metadata": {},
   "source": [
    "        Filtramos el df por género"
   ]
  },
  {
   "cell_type": "code",
   "execution_count": 64,
   "metadata": {},
   "outputs": [],
   "source": [
    "filtro_mw= df_proyecto2[(df_proyecto2[\"género\"]== \"Man\") | (df_proyecto2[\"género\"]==\"Woman\")]"
   ]
  },
  {
   "attachments": {},
   "cell_type": "markdown",
   "metadata": {},
   "source": [
    "    Creamos un gráfico para ver las diferencias entre género (H/M) por continente."
   ]
  },
  {
   "cell_type": "code",
   "execution_count": 47,
   "metadata": {},
   "outputs": [
    {
     "data": {
      "image/png": "[encoded data removed]",
      "text/plain": [
       "<Figure size 1000x600 with 1 Axes>"
      ]
     },
     "metadata": {},
     "output_type": "display_data"
    }
   ],
   "source": [
    "plt.figure(figsize=(10,6))\n",
    "\n",
    "fig = sns.histplot(x = filtro_mw[\"continente\"], data = filtro_mw, hue = filtro_mw[\"género\"])\n",
    "\n",
    "plt.show()"
   ]
  },
  {
   "attachments": {},
   "cell_type": "markdown",
   "metadata": {},
   "source": [
    "        Creamos otra gráfica para ver las diferencias por género en distintos sectores."
   ]
  },
  {
   "cell_type": "code",
   "execution_count": 62,
   "metadata": {},
   "outputs": [
    {
     "data": {
      "text/plain": [
       "                                          9648\n",
       "Computers/Technology                      4079\n",
       "Academics/Education                       3214\n",
       "Accounting/Finance                        1459\n",
       "Other                                     1136\n",
       "Manufacturing/Fabrication                  871\n",
       "Medical/Pharmaceutical                     776\n",
       "Government/Public Service                  726\n",
       "Online Service/Internet-based Services     585\n",
       "Energy/Mining                              558\n",
       "Retail/Sales                               536\n",
       "Insurance/Risk Assessment                  424\n",
       "Marketing/CRM                              373\n",
       "Broadcasting/Communications                326\n",
       "Shipping/Transportation                    316\n",
       "Non-profit/Service                         300\n",
       "Online Business/Internet-based Sales       275\n",
       "Military/Security/Defense                  197\n",
       "Hospitality/Entertainment/Sports           173\n",
       "Name: sector, dtype: int64"
      ]
     },
     "execution_count": 62,
     "metadata": {},
     "output_type": "execute_result"
    }
   ],
   "source": [
    "df_proyecto2[\"sector\"].value_counts()"
   ]
  },
  {
   "cell_type": "code",
   "execution_count": 71,
   "metadata": {},
   "outputs": [
    {
     "data": {
      "image/png": "[encoded data removed]",
      "text/plain": [
       "<Figure size 1000x600 with 1 Axes>"
      ]
     },
     "metadata": {},
     "output_type": "display_data"
    }
   ],
   "source": [
    "plt.figure(figsize=(10,6))\n",
    "\n",
    "fig = sns.countplot(x =  filtro_mw[\"sector\"],  data = filtro_mw, hue = filtro_mw[\"género\"])\n",
    "\n",
    "plt.show()"
   ]
  }
 ],
 "metadata": {
  "kernelspec": {
   "display_name": "Python 3",
   "language": "python",
   "name": "python3"
  },
  "language_info": {
   "codemirror_mode": {
    "name": "ipython",
    "version": 3
   },
   "file_extension": ".py",
   "mimetype": "text/x-python",
   "name": "python",
   "nbconvert_exporter": "python",
   "pygments_lexer": "ipython3",
   "version": "3.10.9"
  },
  "orig_nbformat": 4,
  "vscode": {
   "interpreter": {
    "hash": "74ce4e106c5f3fb5408a2b59926dbdd162e96cafe5f5c54fb66c999b373c7a81"
   }
  }
 },
 "nbformat": 4,
 "nbformat_minor": 2
}
