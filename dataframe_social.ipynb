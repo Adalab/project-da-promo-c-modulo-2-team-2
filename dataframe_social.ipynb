{
 "cells": [
  {
   "cell_type": "markdown",
   "metadata": {},
   "source": [
    "# DATAFRAME SOCIAL"
   ]
  },
  {
   "cell_type": "code",
   "execution_count": 2,
   "metadata": {},
   "outputs": [],
   "source": [
    "import re\n",
    "import os\n",
    "import xml.etree.ElementTree as ET\n",
    "import mysql.connector \n",
    "import pandas as pd\n",
    "import numpy as np\n",
    "import matplotlib.pyplot as plt\n",
    "import seaborn as sns"
   ]
  },
  {
   "attachments": {},
   "cell_type": "markdown",
   "metadata": {},
   "source": [
    "### Creamos un dataframe dónde incluimos a hombres y mujeres en la consulta, edad, país, nivel de estudios, puesto de trabajo, sector y tamaño de la compañía."
   ]
  },
  {
   "cell_type": "code",
   "execution_count": 3,
   "metadata": {},
   "outputs": [],
   "source": [
    "cnx = mysql.connector.connect(user='root', password='AlumnaAdalab',\n",
    "                              host='127.0.0.1',\n",
    "                              database='proyecto_1_equipo_1')\n",
    "mycursor = cnx.cursor()\n",
    "mycursor.execute(\"\"\"SELECT xml.gender, xml.age, txt.q3, txt.q4, txt.q5, txt.q20, txt.q21\n",
    "                    FROM data_txt AS txt\n",
    "                    INNER JOIN data_xml AS xml\n",
    "                    ON txt.index_sql = xml.index_sql ;\"\"\")\n",
    "\n",
    "myresult = mycursor.fetchall()\n",
    "df_proyecto2 = pd.DataFrame(myresult, columns = [\"género\",\"edad\",\"pais\", \"nivel de estudios\", \"puesto de trabajo\", \"sector\", \"tamaño de la compañia\"])\n",
    "cnx.close()"
   ]
  },
  {
   "cell_type": "code",
   "execution_count": 4,
   "metadata": {},
   "outputs": [
    {
     "data": {
      "text/html": [
       "<div>\n",
       "<style scoped>\n",
       "    .dataframe tbody tr th:only-of-type {\n",
       "        vertical-align: middle;\n",
       "    }\n",
       "\n",
       "    .dataframe tbody tr th {\n",
       "        vertical-align: top;\n",
       "    }\n",
       "\n",
       "    .dataframe thead th {\n",
       "        text-align: right;\n",
       "    }\n",
       "</style>\n",
       "<table border=\"1\" class=\"dataframe\">\n",
       "  <thead>\n",
       "    <tr style=\"text-align: right;\">\n",
       "      <th></th>\n",
       "      <th>género</th>\n",
       "      <th>edad</th>\n",
       "      <th>pais</th>\n",
       "      <th>nivel de estudios</th>\n",
       "      <th>puesto de trabajo</th>\n",
       "      <th>sector</th>\n",
       "      <th>tamaño de la compañia</th>\n",
       "    </tr>\n",
       "  </thead>\n",
       "  <tbody>\n",
       "    <tr>\n",
       "      <th>0</th>\n",
       "      <td>Man</td>\n",
       "      <td>50-54</td>\n",
       "      <td>Indonesia</td>\n",
       "      <td>Master’s degree</td>\n",
       "      <td>Program/Project Manager</td>\n",
       "      <td>Manufacturing/Fabrication</td>\n",
       "      <td>1000-9,999 employees</td>\n",
       "    </tr>\n",
       "    <tr>\n",
       "      <th>1</th>\n",
       "      <td>Man</td>\n",
       "      <td>22-24</td>\n",
       "      <td>Pakistan</td>\n",
       "      <td>Master’s degree</td>\n",
       "      <td>Software Engineer</td>\n",
       "      <td>Academics/Education</td>\n",
       "      <td>1000-9,999 employees</td>\n",
       "    </tr>\n",
       "    <tr>\n",
       "      <th>2</th>\n",
       "      <td>Man</td>\n",
       "      <td>45-49</td>\n",
       "      <td>Mexico</td>\n",
       "      <td>Doctoral degree</td>\n",
       "      <td>Research Scientist</td>\n",
       "      <td>Academics/Education</td>\n",
       "      <td>1000-9,999 employees</td>\n",
       "    </tr>\n",
       "    <tr>\n",
       "      <th>3</th>\n",
       "      <td>Man</td>\n",
       "      <td>45-49</td>\n",
       "      <td>India</td>\n",
       "      <td>Doctoral degree</td>\n",
       "      <td>Other</td>\n",
       "      <td>Academics/Education</td>\n",
       "      <td>50-249 employees</td>\n",
       "    </tr>\n",
       "    <tr>\n",
       "      <th>4</th>\n",
       "      <td>Woman</td>\n",
       "      <td>25-29</td>\n",
       "      <td>India</td>\n",
       "      <td>I prefer not to answer</td>\n",
       "      <td>Currently not employed</td>\n",
       "      <td></td>\n",
       "      <td></td>\n",
       "    </tr>\n",
       "  </tbody>\n",
       "</table>\n",
       "</div>"
      ],
      "text/plain": [
       "  género   edad       pais       nivel de estudios        puesto de trabajo  \\\n",
       "0    Man  50-54  Indonesia         Master’s degree  Program/Project Manager   \n",
       "1    Man  22-24   Pakistan         Master’s degree        Software Engineer   \n",
       "2    Man  45-49     Mexico         Doctoral degree       Research Scientist   \n",
       "3    Man  45-49      India         Doctoral degree                    Other   \n",
       "4  Woman  25-29      India  I prefer not to answer   Currently not employed   \n",
       "\n",
       "                      sector tamaño de la compañia  \n",
       "0  Manufacturing/Fabrication  1000-9,999 employees  \n",
       "1        Academics/Education  1000-9,999 employees  \n",
       "2        Academics/Education  1000-9,999 employees  \n",
       "3        Academics/Education      50-249 employees  \n",
       "4                                                   "
      ]
     },
     "execution_count": 4,
     "metadata": {},
     "output_type": "execute_result"
    }
   ],
   "source": [
    "df_proyecto2.head()"
   ]
  },
  {
   "cell_type": "markdown",
   "metadata": {},
   "source": [
    "### Creamos una nueva columna con los continentes usando \"apply()\"."
   ]
  },
  {
   "cell_type": "code",
   "execution_count": 5,
   "metadata": {},
   "outputs": [],
   "source": [
    "continente1 = ['India', 'Turkey','Viet Nam', 'Bangladesh', 'Indonesia', \n",
    "        'Singapore', 'Taiwan', 'Hong Kong (S.A.R.)', 'Israel', 'Pakistan', 'Philippines', 'United Arab Emirates', 'Thailand', 'Japan', 'China', 'South Korea', \n",
    "       'Saudi Arabia', 'Malaysia', 'Kazakhstan', 'Nepal']\n",
    "\n",
    "continente2 = ['Iran, Islamic Republic of...', 'Egypt','Morocco','Tunisia','Nigeria','Kenya','South Africa',\n",
    "       'Algeria','Ghana','Uganda', 'Ethiopia', 'Iraq']\n",
    "\n",
    "continente3 = ['Poland','Russia', 'Italy', 'Sweden',\n",
    "       'Ireland', 'United Kingdom of Great Britain and Northern Ireland','Spain',\n",
    "       'Germany', 'Belgium', 'Austria',\n",
    "       'France', 'Romania', 'Ukraine', \n",
    "       'Netherlands', 'Portugal', 'Norway',\n",
    "       'Czech Republic', 'Greece', 'Switzerland',\n",
    "       'Denmark','Belarus']\n",
    "\n",
    "continente4 = ['United States of America','Canada']\n",
    "\n",
    "continente5 = ['Brazil', 'Argentina','Colombia', 'Mexico', 'Peru', 'Ecuador','Chile']\n",
    "\n",
    "continente6 = ['Australia']"
   ]
  },
  {
   "cell_type": "code",
   "execution_count": 6,
   "metadata": {},
   "outputs": [],
   "source": [
    "def continente(pais):\n",
    "    if pais in continente1:\n",
    "        return \"Asia\"\n",
    "    elif pais in continente2:\n",
    "        return \"África\"\n",
    "    elif pais in continente3:\n",
    "        return \"Europa\"\n",
    "    elif pais in continente4:\n",
    "        return \"América del Norte\"\n",
    "    elif pais in continente5:\n",
    "        return \"América del Sur\"\n",
    "    elif pais in continente6:\n",
    "        return \"Oceanía\""
   ]
  },
  {
   "cell_type": "code",
   "execution_count": 7,
   "metadata": {},
   "outputs": [],
   "source": [
    "df_proyecto2[\"continente\"] = df_proyecto2[\"pais\"].apply(continente)"
   ]
  },
  {
   "cell_type": "code",
   "execution_count": 8,
   "metadata": {},
   "outputs": [
    {
     "data": {
      "text/html": [
       "<div>\n",
       "<style scoped>\n",
       "    .dataframe tbody tr th:only-of-type {\n",
       "        vertical-align: middle;\n",
       "    }\n",
       "\n",
       "    .dataframe tbody tr th {\n",
       "        vertical-align: top;\n",
       "    }\n",
       "\n",
       "    .dataframe thead th {\n",
       "        text-align: right;\n",
       "    }\n",
       "</style>\n",
       "<table border=\"1\" class=\"dataframe\">\n",
       "  <thead>\n",
       "    <tr style=\"text-align: right;\">\n",
       "      <th></th>\n",
       "      <th>género</th>\n",
       "      <th>edad</th>\n",
       "      <th>pais</th>\n",
       "      <th>nivel de estudios</th>\n",
       "      <th>puesto de trabajo</th>\n",
       "      <th>sector</th>\n",
       "      <th>tamaño de la compañia</th>\n",
       "      <th>continente</th>\n",
       "    </tr>\n",
       "  </thead>\n",
       "  <tbody>\n",
       "    <tr>\n",
       "      <th>0</th>\n",
       "      <td>Man</td>\n",
       "      <td>50-54</td>\n",
       "      <td>Indonesia</td>\n",
       "      <td>Master’s degree</td>\n",
       "      <td>Program/Project Manager</td>\n",
       "      <td>Manufacturing/Fabrication</td>\n",
       "      <td>1000-9,999 employees</td>\n",
       "      <td>Asia</td>\n",
       "    </tr>\n",
       "    <tr>\n",
       "      <th>1</th>\n",
       "      <td>Man</td>\n",
       "      <td>22-24</td>\n",
       "      <td>Pakistan</td>\n",
       "      <td>Master’s degree</td>\n",
       "      <td>Software Engineer</td>\n",
       "      <td>Academics/Education</td>\n",
       "      <td>1000-9,999 employees</td>\n",
       "      <td>Asia</td>\n",
       "    </tr>\n",
       "    <tr>\n",
       "      <th>2</th>\n",
       "      <td>Man</td>\n",
       "      <td>45-49</td>\n",
       "      <td>Mexico</td>\n",
       "      <td>Doctoral degree</td>\n",
       "      <td>Research Scientist</td>\n",
       "      <td>Academics/Education</td>\n",
       "      <td>1000-9,999 employees</td>\n",
       "      <td>América del Sur</td>\n",
       "    </tr>\n",
       "    <tr>\n",
       "      <th>3</th>\n",
       "      <td>Man</td>\n",
       "      <td>45-49</td>\n",
       "      <td>India</td>\n",
       "      <td>Doctoral degree</td>\n",
       "      <td>Other</td>\n",
       "      <td>Academics/Education</td>\n",
       "      <td>50-249 employees</td>\n",
       "      <td>Asia</td>\n",
       "    </tr>\n",
       "    <tr>\n",
       "      <th>4</th>\n",
       "      <td>Woman</td>\n",
       "      <td>25-29</td>\n",
       "      <td>India</td>\n",
       "      <td>I prefer not to answer</td>\n",
       "      <td>Currently not employed</td>\n",
       "      <td></td>\n",
       "      <td></td>\n",
       "      <td>Asia</td>\n",
       "    </tr>\n",
       "  </tbody>\n",
       "</table>\n",
       "</div>"
      ],
      "text/plain": [
       "  género   edad       pais       nivel de estudios        puesto de trabajo  \\\n",
       "0    Man  50-54  Indonesia         Master’s degree  Program/Project Manager   \n",
       "1    Man  22-24   Pakistan         Master’s degree        Software Engineer   \n",
       "2    Man  45-49     Mexico         Doctoral degree       Research Scientist   \n",
       "3    Man  45-49      India         Doctoral degree                    Other   \n",
       "4  Woman  25-29      India  I prefer not to answer   Currently not employed   \n",
       "\n",
       "                      sector tamaño de la compañia       continente  \n",
       "0  Manufacturing/Fabrication  1000-9,999 employees             Asia  \n",
       "1        Academics/Education  1000-9,999 employees             Asia  \n",
       "2        Academics/Education  1000-9,999 employees  América del Sur  \n",
       "3        Academics/Education      50-249 employees             Asia  \n",
       "4                                                              Asia  "
      ]
     },
     "execution_count": 8,
     "metadata": {},
     "output_type": "execute_result"
    }
   ],
   "source": [
    "df_proyecto2.head()"
   ]
  },
  {
   "cell_type": "markdown",
   "metadata": {},
   "source": [
    "### Filtramos los datos para no incluir a los estudiantes ni desempleados en nuestro dataframe."
   ]
  },
  {
   "cell_type": "code",
   "execution_count": 9,
   "metadata": {},
   "outputs": [
    {
     "data": {
      "text/html": [
       "<div>\n",
       "<style scoped>\n",
       "    .dataframe tbody tr th:only-of-type {\n",
       "        vertical-align: middle;\n",
       "    }\n",
       "\n",
       "    .dataframe tbody tr th {\n",
       "        vertical-align: top;\n",
       "    }\n",
       "\n",
       "    .dataframe thead th {\n",
       "        text-align: right;\n",
       "    }\n",
       "</style>\n",
       "<table border=\"1\" class=\"dataframe\">\n",
       "  <thead>\n",
       "    <tr style=\"text-align: right;\">\n",
       "      <th></th>\n",
       "      <th>género</th>\n",
       "      <th>edad</th>\n",
       "      <th>pais</th>\n",
       "      <th>nivel de estudios</th>\n",
       "      <th>puesto de trabajo</th>\n",
       "      <th>sector</th>\n",
       "      <th>tamaño de la compañia</th>\n",
       "      <th>continente</th>\n",
       "    </tr>\n",
       "  </thead>\n",
       "  <tbody>\n",
       "    <tr>\n",
       "      <th>0</th>\n",
       "      <td>Man</td>\n",
       "      <td>50-54</td>\n",
       "      <td>Indonesia</td>\n",
       "      <td>Master’s degree</td>\n",
       "      <td>Program/Project Manager</td>\n",
       "      <td>Manufacturing/Fabrication</td>\n",
       "      <td>1000-9,999 employees</td>\n",
       "      <td>Asia</td>\n",
       "    </tr>\n",
       "    <tr>\n",
       "      <th>1</th>\n",
       "      <td>Man</td>\n",
       "      <td>22-24</td>\n",
       "      <td>Pakistan</td>\n",
       "      <td>Master’s degree</td>\n",
       "      <td>Software Engineer</td>\n",
       "      <td>Academics/Education</td>\n",
       "      <td>1000-9,999 employees</td>\n",
       "      <td>Asia</td>\n",
       "    </tr>\n",
       "    <tr>\n",
       "      <th>2</th>\n",
       "      <td>Man</td>\n",
       "      <td>45-49</td>\n",
       "      <td>Mexico</td>\n",
       "      <td>Doctoral degree</td>\n",
       "      <td>Research Scientist</td>\n",
       "      <td>Academics/Education</td>\n",
       "      <td>1000-9,999 employees</td>\n",
       "      <td>América del Sur</td>\n",
       "    </tr>\n",
       "    <tr>\n",
       "      <th>6</th>\n",
       "      <td>Man</td>\n",
       "      <td>30-34</td>\n",
       "      <td>India</td>\n",
       "      <td>Bachelor’s degree</td>\n",
       "      <td>Data Scientist</td>\n",
       "      <td>Computers/Technology</td>\n",
       "      <td>10,000 or more employees</td>\n",
       "      <td>Asia</td>\n",
       "    </tr>\n",
       "    <tr>\n",
       "      <th>12</th>\n",
       "      <td>Man</td>\n",
       "      <td>45-49</td>\n",
       "      <td>Nigeria</td>\n",
       "      <td>Master’s degree</td>\n",
       "      <td>Program/Project Manager</td>\n",
       "      <td>Shipping/Transportation</td>\n",
       "      <td>1000-9,999 employees</td>\n",
       "      <td>África</td>\n",
       "    </tr>\n",
       "  </tbody>\n",
       "</table>\n",
       "</div>"
      ],
      "text/plain": [
       "   género   edad       pais  nivel de estudios        puesto de trabajo  \\\n",
       "0     Man  50-54  Indonesia    Master’s degree  Program/Project Manager   \n",
       "1     Man  22-24   Pakistan    Master’s degree        Software Engineer   \n",
       "2     Man  45-49     Mexico    Doctoral degree       Research Scientist   \n",
       "6     Man  30-34      India  Bachelor’s degree           Data Scientist   \n",
       "12    Man  45-49    Nigeria    Master’s degree  Program/Project Manager   \n",
       "\n",
       "                       sector     tamaño de la compañia       continente  \n",
       "0   Manufacturing/Fabrication      1000-9,999 employees             Asia  \n",
       "1         Academics/Education      1000-9,999 employees             Asia  \n",
       "2         Academics/Education      1000-9,999 employees  América del Sur  \n",
       "6        Computers/Technology  10,000 or more employees             Asia  \n",
       "12    Shipping/Transportation      1000-9,999 employees           África  "
      ]
     },
     "execution_count": 9,
     "metadata": {},
     "output_type": "execute_result"
    }
   ],
   "source": [
    "df_proyecto3 = df_proyecto2[(df_proyecto2['puesto de trabajo'] != \"Student\") & (df_proyecto2['puesto de trabajo'] != \"Other\") & (df_proyecto2['puesto de trabajo'] != \"Currently not employed\")]\n",
    "df_proyecto3.head()"
   ]
  },
  {
   "cell_type": "markdown",
   "metadata": {},
   "source": [
    "### Filtramos los datos para no incluir cualquier sexo que no sea hombre o mujer."
   ]
  },
  {
   "cell_type": "code",
   "execution_count": 10,
   "metadata": {},
   "outputs": [],
   "source": [
    "df_proyecto3 = df_proyecto3[(df_proyecto3[\"género\"]== \"Man\") | (df_proyecto3[\"género\"]==\"Woman\")]"
   ]
  },
  {
   "cell_type": "markdown",
   "metadata": {},
   "source": [
    "### Creamos una gráfica para ver la diferencia entre hombres y mujeres por continente."
   ]
  },
  {
   "cell_type": "code",
   "execution_count": 11,
   "metadata": {},
   "outputs": [
    {
     "data": {
      "image/png": "[encoded data removed]",
      "text/plain": [
       "<Figure size 720x432 with 1 Axes>"
      ]
     },
     "metadata": {
      "needs_background": "light"
     },
     "output_type": "display_data"
    }
   ],
   "source": [
    "plt.figure(figsize=(10,6))\n",
    "\n",
    "fig = sns.histplot(x = df_proyecto3[\"continente\"], data = df_proyecto3, hue = df_proyecto3[\"género\"])\n",
    "\n",
    "plt.show()"
   ]
  },
  {
   "cell_type": "markdown",
   "metadata": {},
   "source": [
    "### Creamos una gráfica para ver la diferencia entre hombres y mujeres por puesto de trabajo."
   ]
  },
  {
   "cell_type": "code",
   "execution_count": 12,
   "metadata": {},
   "outputs": [
    {
     "data": {
      "image/png": "[encoded data removed]",
      "text/plain": [
       "<Figure size 1080x432 with 1 Axes>"
      ]
     },
     "metadata": {
      "needs_background": "light"
     },
     "output_type": "display_data"
    }
   ],
   "source": [
    "plt.figure(figsize=(15,6))\n",
    "\n",
    "fig = sns.countplot(x =  df_proyecto3[\"puesto de trabajo\"],  data = df_proyecto3, hue = df_proyecto3[\"género\"])\n",
    "\n",
    "plt.xticks(rotation = 90)\n",
    "plt.show()"
   ]
  },
  {
   "cell_type": "code",
   "execution_count": 13,
   "metadata": {},
   "outputs": [
    {
     "data": {
      "image/png": "[encoded data removed]",
      "text/plain": [
       "<Figure size 1080x432 with 1 Axes>"
      ]
     },
     "metadata": {
      "needs_background": "light"
     },
     "output_type": "display_data"
    }
   ],
   "source": [
    "plt.figure(figsize=(15,6))\n",
    "\n",
    "fig = sns.countplot(x =  df_proyecto3[\"sector\"],  data = df_proyecto3, hue = df_proyecto3[\"género\"])\n",
    "\n",
    "plt.xticks(rotation = 90)\n",
    "plt.show()"
   ]
  },
  {
   "cell_type": "code",
   "execution_count": 14,
   "metadata": {},
   "outputs": [
    {
     "data": {
      "text/html": [
       "<div>\n",
       "<style scoped>\n",
       "    .dataframe tbody tr th:only-of-type {\n",
       "        vertical-align: middle;\n",
       "    }\n",
       "\n",
       "    .dataframe tbody tr th {\n",
       "        vertical-align: top;\n",
       "    }\n",
       "\n",
       "    .dataframe thead th {\n",
       "        text-align: right;\n",
       "    }\n",
       "</style>\n",
       "<table border=\"1\" class=\"dataframe\">\n",
       "  <thead>\n",
       "    <tr style=\"text-align: right;\">\n",
       "      <th></th>\n",
       "      <th>género</th>\n",
       "      <th>edad</th>\n",
       "      <th>pais</th>\n",
       "      <th>nivel de estudios</th>\n",
       "      <th>puesto de trabajo</th>\n",
       "      <th>sector</th>\n",
       "      <th>tamaño de la compañia</th>\n",
       "      <th>continente</th>\n",
       "    </tr>\n",
       "  </thead>\n",
       "  <tbody>\n",
       "    <tr>\n",
       "      <th>0</th>\n",
       "      <td>Man</td>\n",
       "      <td>50-54</td>\n",
       "      <td>Indonesia</td>\n",
       "      <td>Master’s degree</td>\n",
       "      <td>Program/Project Manager</td>\n",
       "      <td>Manufacturing/Fabrication</td>\n",
       "      <td>1000-9,999 employees</td>\n",
       "      <td>Asia</td>\n",
       "    </tr>\n",
       "    <tr>\n",
       "      <th>1</th>\n",
       "      <td>Man</td>\n",
       "      <td>22-24</td>\n",
       "      <td>Pakistan</td>\n",
       "      <td>Master’s degree</td>\n",
       "      <td>Software Engineer</td>\n",
       "      <td>Academics/Education</td>\n",
       "      <td>1000-9,999 employees</td>\n",
       "      <td>Asia</td>\n",
       "    </tr>\n",
       "    <tr>\n",
       "      <th>2</th>\n",
       "      <td>Man</td>\n",
       "      <td>45-49</td>\n",
       "      <td>Mexico</td>\n",
       "      <td>Doctoral degree</td>\n",
       "      <td>Research Scientist</td>\n",
       "      <td>Academics/Education</td>\n",
       "      <td>1000-9,999 employees</td>\n",
       "      <td>América del Sur</td>\n",
       "    </tr>\n",
       "    <tr>\n",
       "      <th>6</th>\n",
       "      <td>Man</td>\n",
       "      <td>30-34</td>\n",
       "      <td>India</td>\n",
       "      <td>Bachelor’s degree</td>\n",
       "      <td>Data Scientist</td>\n",
       "      <td>Computers/Technology</td>\n",
       "      <td>10,000 or more employees</td>\n",
       "      <td>Asia</td>\n",
       "    </tr>\n",
       "    <tr>\n",
       "      <th>12</th>\n",
       "      <td>Man</td>\n",
       "      <td>45-49</td>\n",
       "      <td>Nigeria</td>\n",
       "      <td>Master’s degree</td>\n",
       "      <td>Program/Project Manager</td>\n",
       "      <td>Shipping/Transportation</td>\n",
       "      <td>1000-9,999 employees</td>\n",
       "      <td>África</td>\n",
       "    </tr>\n",
       "  </tbody>\n",
       "</table>\n",
       "</div>"
      ],
      "text/plain": [
       "   género   edad       pais  nivel de estudios        puesto de trabajo  \\\n",
       "0     Man  50-54  Indonesia    Master’s degree  Program/Project Manager   \n",
       "1     Man  22-24   Pakistan    Master’s degree        Software Engineer   \n",
       "2     Man  45-49     Mexico    Doctoral degree       Research Scientist   \n",
       "6     Man  30-34      India  Bachelor’s degree           Data Scientist   \n",
       "12    Man  45-49    Nigeria    Master’s degree  Program/Project Manager   \n",
       "\n",
       "                       sector     tamaño de la compañia       continente  \n",
       "0   Manufacturing/Fabrication      1000-9,999 employees             Asia  \n",
       "1         Academics/Education      1000-9,999 employees             Asia  \n",
       "2         Academics/Education      1000-9,999 employees  América del Sur  \n",
       "6        Computers/Technology  10,000 or more employees             Asia  \n",
       "12    Shipping/Transportation      1000-9,999 employees           África  "
      ]
     },
     "execution_count": 14,
     "metadata": {},
     "output_type": "execute_result"
    }
   ],
   "source": [
    "df_proyecto3.head()"
   ]
  },
  {
   "cell_type": "code",
   "execution_count": 15,
   "metadata": {},
   "outputs": [
    {
     "data": {
      "text/plain": [
       "array(['Manufacturing/Fabrication', 'Academics/Education',\n",
       "       'Computers/Technology', 'Shipping/Transportation', 'Energy/Mining',\n",
       "       '', 'Insurance/Risk Assessment', 'Non-profit/Service',\n",
       "       'Accounting/Finance', 'Hospitality/Entertainment/Sports', 'Other',\n",
       "       'Government/Public Service',\n",
       "       'Online Service/Internet-based Services', 'Medical/Pharmaceutical',\n",
       "       'Retail/Sales', 'Broadcasting/Communications',\n",
       "       'Online Business/Internet-based Sales', 'Marketing/CRM',\n",
       "       'Military/Security/Defense'], dtype=object)"
      ]
     },
     "execution_count": 15,
     "metadata": {},
     "output_type": "execute_result"
    }
   ],
   "source": [
    "df_proyecto3[\"sector\"].unique()"
   ]
  },
  {
   "cell_type": "markdown",
   "metadata": {},
   "source": [
    "### Como vemos en la gráfica anterior, tenemos campos vacíos en la columna del sector professional, y un campo Other que en nuestro caso, no sería útil. Por lo tanto, filtramos de nuevo los registros que nos interesan para nuestro análisis."
   ]
  },
  {
   "cell_type": "code",
   "execution_count": 16,
   "metadata": {},
   "outputs": [
    {
     "data": {
      "text/html": [
       "<div>\n",
       "<style scoped>\n",
       "    .dataframe tbody tr th:only-of-type {\n",
       "        vertical-align: middle;\n",
       "    }\n",
       "\n",
       "    .dataframe tbody tr th {\n",
       "        vertical-align: top;\n",
       "    }\n",
       "\n",
       "    .dataframe thead th {\n",
       "        text-align: right;\n",
       "    }\n",
       "</style>\n",
       "<table border=\"1\" class=\"dataframe\">\n",
       "  <thead>\n",
       "    <tr style=\"text-align: right;\">\n",
       "      <th></th>\n",
       "      <th>género</th>\n",
       "      <th>edad</th>\n",
       "      <th>pais</th>\n",
       "      <th>nivel de estudios</th>\n",
       "      <th>puesto de trabajo</th>\n",
       "      <th>sector</th>\n",
       "      <th>tamaño de la compañia</th>\n",
       "      <th>continente</th>\n",
       "    </tr>\n",
       "  </thead>\n",
       "  <tbody>\n",
       "    <tr>\n",
       "      <th>0</th>\n",
       "      <td>Man</td>\n",
       "      <td>50-54</td>\n",
       "      <td>Indonesia</td>\n",
       "      <td>Master’s degree</td>\n",
       "      <td>Program/Project Manager</td>\n",
       "      <td>Manufacturing/Fabrication</td>\n",
       "      <td>1000-9,999 employees</td>\n",
       "      <td>Asia</td>\n",
       "    </tr>\n",
       "    <tr>\n",
       "      <th>1</th>\n",
       "      <td>Man</td>\n",
       "      <td>22-24</td>\n",
       "      <td>Pakistan</td>\n",
       "      <td>Master’s degree</td>\n",
       "      <td>Software Engineer</td>\n",
       "      <td>Academics/Education</td>\n",
       "      <td>1000-9,999 employees</td>\n",
       "      <td>Asia</td>\n",
       "    </tr>\n",
       "    <tr>\n",
       "      <th>2</th>\n",
       "      <td>Man</td>\n",
       "      <td>45-49</td>\n",
       "      <td>Mexico</td>\n",
       "      <td>Doctoral degree</td>\n",
       "      <td>Research Scientist</td>\n",
       "      <td>Academics/Education</td>\n",
       "      <td>1000-9,999 employees</td>\n",
       "      <td>América del Sur</td>\n",
       "    </tr>\n",
       "    <tr>\n",
       "      <th>6</th>\n",
       "      <td>Man</td>\n",
       "      <td>30-34</td>\n",
       "      <td>India</td>\n",
       "      <td>Bachelor’s degree</td>\n",
       "      <td>Data Scientist</td>\n",
       "      <td>Computers/Technology</td>\n",
       "      <td>10,000 or more employees</td>\n",
       "      <td>Asia</td>\n",
       "    </tr>\n",
       "    <tr>\n",
       "      <th>12</th>\n",
       "      <td>Man</td>\n",
       "      <td>45-49</td>\n",
       "      <td>Nigeria</td>\n",
       "      <td>Master’s degree</td>\n",
       "      <td>Program/Project Manager</td>\n",
       "      <td>Shipping/Transportation</td>\n",
       "      <td>1000-9,999 employees</td>\n",
       "      <td>África</td>\n",
       "    </tr>\n",
       "  </tbody>\n",
       "</table>\n",
       "</div>"
      ],
      "text/plain": [
       "   género   edad       pais  nivel de estudios        puesto de trabajo  \\\n",
       "0     Man  50-54  Indonesia    Master’s degree  Program/Project Manager   \n",
       "1     Man  22-24   Pakistan    Master’s degree        Software Engineer   \n",
       "2     Man  45-49     Mexico    Doctoral degree       Research Scientist   \n",
       "6     Man  30-34      India  Bachelor’s degree           Data Scientist   \n",
       "12    Man  45-49    Nigeria    Master’s degree  Program/Project Manager   \n",
       "\n",
       "                       sector     tamaño de la compañia       continente  \n",
       "0   Manufacturing/Fabrication      1000-9,999 employees             Asia  \n",
       "1         Academics/Education      1000-9,999 employees             Asia  \n",
       "2         Academics/Education      1000-9,999 employees  América del Sur  \n",
       "6        Computers/Technology  10,000 or more employees             Asia  \n",
       "12    Shipping/Transportation      1000-9,999 employees           África  "
      ]
     },
     "execution_count": 16,
     "metadata": {},
     "output_type": "execute_result"
    }
   ],
   "source": [
    "df_proyecto3 = df_proyecto3[(df_proyecto3['sector'] != \"\") & (df_proyecto3['sector'] != \"Other\")]\n",
    "df_proyecto3.head()"
   ]
  },
  {
   "cell_type": "code",
   "execution_count": 17,
   "metadata": {},
   "outputs": [
    {
     "data": {
      "text/plain": [
       "array(['Manufacturing/Fabrication', 'Academics/Education',\n",
       "       'Computers/Technology', 'Shipping/Transportation', 'Energy/Mining',\n",
       "       'Insurance/Risk Assessment', 'Non-profit/Service',\n",
       "       'Accounting/Finance', 'Hospitality/Entertainment/Sports',\n",
       "       'Government/Public Service',\n",
       "       'Online Service/Internet-based Services', 'Medical/Pharmaceutical',\n",
       "       'Retail/Sales', 'Broadcasting/Communications',\n",
       "       'Online Business/Internet-based Sales', 'Marketing/CRM',\n",
       "       'Military/Security/Defense'], dtype=object)"
      ]
     },
     "execution_count": 17,
     "metadata": {},
     "output_type": "execute_result"
    }
   ],
   "source": [
    "df_proyecto3[\"sector\"].unique()"
   ]
  },
  {
   "cell_type": "code",
   "execution_count": 18,
   "metadata": {},
   "outputs": [
    {
     "data": {
      "text/html": [
       "<div>\n",
       "<style scoped>\n",
       "    .dataframe tbody tr th:only-of-type {\n",
       "        vertical-align: middle;\n",
       "    }\n",
       "\n",
       "    .dataframe tbody tr th {\n",
       "        vertical-align: top;\n",
       "    }\n",
       "\n",
       "    .dataframe thead th {\n",
       "        text-align: right;\n",
       "    }\n",
       "</style>\n",
       "<table border=\"1\" class=\"dataframe\">\n",
       "  <thead>\n",
       "    <tr style=\"text-align: right;\">\n",
       "      <th></th>\n",
       "      <th>género</th>\n",
       "      <th>edad</th>\n",
       "      <th>pais</th>\n",
       "      <th>nivel de estudios</th>\n",
       "      <th>puesto de trabajo</th>\n",
       "      <th>sector</th>\n",
       "      <th>tamaño de la compañia</th>\n",
       "      <th>continente</th>\n",
       "    </tr>\n",
       "  </thead>\n",
       "  <tbody>\n",
       "    <tr>\n",
       "      <th>0</th>\n",
       "      <td>Man</td>\n",
       "      <td>50-54</td>\n",
       "      <td>Indonesia</td>\n",
       "      <td>Master’s degree</td>\n",
       "      <td>Program/Project Manager</td>\n",
       "      <td>Manufacturing/Fabrication</td>\n",
       "      <td>1000-9,999 employees</td>\n",
       "      <td>Asia</td>\n",
       "    </tr>\n",
       "    <tr>\n",
       "      <th>1</th>\n",
       "      <td>Man</td>\n",
       "      <td>22-24</td>\n",
       "      <td>Pakistan</td>\n",
       "      <td>Master’s degree</td>\n",
       "      <td>Software Engineer</td>\n",
       "      <td>Academics/Education</td>\n",
       "      <td>1000-9,999 employees</td>\n",
       "      <td>Asia</td>\n",
       "    </tr>\n",
       "    <tr>\n",
       "      <th>2</th>\n",
       "      <td>Man</td>\n",
       "      <td>45-49</td>\n",
       "      <td>Mexico</td>\n",
       "      <td>Doctoral degree</td>\n",
       "      <td>Research Scientist</td>\n",
       "      <td>Academics/Education</td>\n",
       "      <td>1000-9,999 employees</td>\n",
       "      <td>América del Sur</td>\n",
       "    </tr>\n",
       "    <tr>\n",
       "      <th>6</th>\n",
       "      <td>Man</td>\n",
       "      <td>30-34</td>\n",
       "      <td>India</td>\n",
       "      <td>Bachelor’s degree</td>\n",
       "      <td>Data Scientist</td>\n",
       "      <td>Computers/Technology</td>\n",
       "      <td>10,000 or more employees</td>\n",
       "      <td>Asia</td>\n",
       "    </tr>\n",
       "    <tr>\n",
       "      <th>12</th>\n",
       "      <td>Man</td>\n",
       "      <td>45-49</td>\n",
       "      <td>Nigeria</td>\n",
       "      <td>Master’s degree</td>\n",
       "      <td>Program/Project Manager</td>\n",
       "      <td>Shipping/Transportation</td>\n",
       "      <td>1000-9,999 employees</td>\n",
       "      <td>África</td>\n",
       "    </tr>\n",
       "  </tbody>\n",
       "</table>\n",
       "</div>"
      ],
      "text/plain": [
       "   género   edad       pais  nivel de estudios        puesto de trabajo  \\\n",
       "0     Man  50-54  Indonesia    Master’s degree  Program/Project Manager   \n",
       "1     Man  22-24   Pakistan    Master’s degree        Software Engineer   \n",
       "2     Man  45-49     Mexico    Doctoral degree       Research Scientist   \n",
       "6     Man  30-34      India  Bachelor’s degree           Data Scientist   \n",
       "12    Man  45-49    Nigeria    Master’s degree  Program/Project Manager   \n",
       "\n",
       "                       sector     tamaño de la compañia       continente  \n",
       "0   Manufacturing/Fabrication      1000-9,999 employees             Asia  \n",
       "1         Academics/Education      1000-9,999 employees             Asia  \n",
       "2         Academics/Education      1000-9,999 employees  América del Sur  \n",
       "6        Computers/Technology  10,000 or more employees             Asia  \n",
       "12    Shipping/Transportation      1000-9,999 employees           África  "
      ]
     },
     "execution_count": 18,
     "metadata": {},
     "output_type": "execute_result"
    }
   ],
   "source": [
    "df_proyecto3.head()"
   ]
  },
  {
   "cell_type": "code",
   "execution_count": 19,
   "metadata": {},
   "outputs": [
    {
     "data": {
      "image/png": "[encoded data removed]",
      "text/plain": [
       "<Figure size 1080x432 with 1 Axes>"
      ]
     },
     "metadata": {
      "needs_background": "light"
     },
     "output_type": "display_data"
    }
   ],
   "source": [
    "plt.figure(figsize=(15,6))\n",
    "\n",
    "fig = sns.countplot(x =  df_proyecto3[\"nivel de estudios\"],  data = df_proyecto3, hue = df_proyecto3[\"género\"])\n",
    "\n",
    "plt.xticks(rotation = 90)\n",
    "plt.show()"
   ]
  },
  {
   "cell_type": "code",
   "execution_count": 20,
   "metadata": {},
   "outputs": [
    {
     "data": {
      "image/png": "[encoded data removed]",
      "text/plain": [
       "<Figure size 1080x432 with 1 Axes>"
      ]
     },
     "metadata": {
      "needs_background": "light"
     },
     "output_type": "display_data"
    }
   ],
   "source": [
    "plt.figure(figsize=(15,6))\n",
    "\n",
    "fig = sns.countplot(x =  df_proyecto3[\"tamaño de la compañia\"],  data = df_proyecto3, hue = df_proyecto3[\"género\"])\n",
    "\n",
    "plt.xticks(rotation = 90)\n",
    "plt.show()"
   ]
  },
  {
   "cell_type": "markdown",
   "metadata": {},
   "source": [
    "### Realizamos el mismo filtrado con la columna del tamaño de la compañia."
   ]
  },
  {
   "cell_type": "code",
   "execution_count": 21,
   "metadata": {},
   "outputs": [
    {
     "data": {
      "text/html": [
       "<div>\n",
       "<style scoped>\n",
       "    .dataframe tbody tr th:only-of-type {\n",
       "        vertical-align: middle;\n",
       "    }\n",
       "\n",
       "    .dataframe tbody tr th {\n",
       "        vertical-align: top;\n",
       "    }\n",
       "\n",
       "    .dataframe thead th {\n",
       "        text-align: right;\n",
       "    }\n",
       "</style>\n",
       "<table border=\"1\" class=\"dataframe\">\n",
       "  <thead>\n",
       "    <tr style=\"text-align: right;\">\n",
       "      <th></th>\n",
       "      <th>género</th>\n",
       "      <th>edad</th>\n",
       "      <th>pais</th>\n",
       "      <th>nivel de estudios</th>\n",
       "      <th>puesto de trabajo</th>\n",
       "      <th>sector</th>\n",
       "      <th>tamaño de la compañia</th>\n",
       "      <th>continente</th>\n",
       "    </tr>\n",
       "  </thead>\n",
       "  <tbody>\n",
       "    <tr>\n",
       "      <th>0</th>\n",
       "      <td>Man</td>\n",
       "      <td>50-54</td>\n",
       "      <td>Indonesia</td>\n",
       "      <td>Master’s degree</td>\n",
       "      <td>Program/Project Manager</td>\n",
       "      <td>Manufacturing/Fabrication</td>\n",
       "      <td>1000-9,999 employees</td>\n",
       "      <td>Asia</td>\n",
       "    </tr>\n",
       "    <tr>\n",
       "      <th>1</th>\n",
       "      <td>Man</td>\n",
       "      <td>22-24</td>\n",
       "      <td>Pakistan</td>\n",
       "      <td>Master’s degree</td>\n",
       "      <td>Software Engineer</td>\n",
       "      <td>Academics/Education</td>\n",
       "      <td>1000-9,999 employees</td>\n",
       "      <td>Asia</td>\n",
       "    </tr>\n",
       "    <tr>\n",
       "      <th>2</th>\n",
       "      <td>Man</td>\n",
       "      <td>45-49</td>\n",
       "      <td>Mexico</td>\n",
       "      <td>Doctoral degree</td>\n",
       "      <td>Research Scientist</td>\n",
       "      <td>Academics/Education</td>\n",
       "      <td>1000-9,999 employees</td>\n",
       "      <td>América del Sur</td>\n",
       "    </tr>\n",
       "    <tr>\n",
       "      <th>6</th>\n",
       "      <td>Man</td>\n",
       "      <td>30-34</td>\n",
       "      <td>India</td>\n",
       "      <td>Bachelor’s degree</td>\n",
       "      <td>Data Scientist</td>\n",
       "      <td>Computers/Technology</td>\n",
       "      <td>10,000 or more employees</td>\n",
       "      <td>Asia</td>\n",
       "    </tr>\n",
       "    <tr>\n",
       "      <th>12</th>\n",
       "      <td>Man</td>\n",
       "      <td>45-49</td>\n",
       "      <td>Nigeria</td>\n",
       "      <td>Master’s degree</td>\n",
       "      <td>Program/Project Manager</td>\n",
       "      <td>Shipping/Transportation</td>\n",
       "      <td>1000-9,999 employees</td>\n",
       "      <td>África</td>\n",
       "    </tr>\n",
       "  </tbody>\n",
       "</table>\n",
       "</div>"
      ],
      "text/plain": [
       "   género   edad       pais  nivel de estudios        puesto de trabajo  \\\n",
       "0     Man  50-54  Indonesia    Master’s degree  Program/Project Manager   \n",
       "1     Man  22-24   Pakistan    Master’s degree        Software Engineer   \n",
       "2     Man  45-49     Mexico    Doctoral degree       Research Scientist   \n",
       "6     Man  30-34      India  Bachelor’s degree           Data Scientist   \n",
       "12    Man  45-49    Nigeria    Master’s degree  Program/Project Manager   \n",
       "\n",
       "                       sector     tamaño de la compañia       continente  \n",
       "0   Manufacturing/Fabrication      1000-9,999 employees             Asia  \n",
       "1         Academics/Education      1000-9,999 employees             Asia  \n",
       "2         Academics/Education      1000-9,999 employees  América del Sur  \n",
       "6        Computers/Technology  10,000 or more employees             Asia  \n",
       "12    Shipping/Transportation      1000-9,999 employees           África  "
      ]
     },
     "execution_count": 21,
     "metadata": {},
     "output_type": "execute_result"
    }
   ],
   "source": [
    "df_social = df_proyecto3[(df_proyecto3['tamaño de la compañia'] != \"\")]\n",
    "df_social.head()"
   ]
  },
  {
   "cell_type": "code",
   "execution_count": 22,
   "metadata": {},
   "outputs": [
    {
     "data": {
      "text/plain": [
       "Data Scientist                  3109\n",
       "Software Engineer               2126\n",
       "Data Analyst                    2004\n",
       "Research Scientist              1382\n",
       "Machine Learning Engineer       1273\n",
       "Business Analyst                 858\n",
       "Program/Project Manager          742\n",
       "Data Engineer                    594\n",
       "Product Manager                  280\n",
       "Statistician                     275\n",
       "DBA/Database Engineer            145\n",
       "Developer Relations/Advocacy      84\n",
       "Name: puesto de trabajo, dtype: int64"
      ]
     },
     "execution_count": 22,
     "metadata": {},
     "output_type": "execute_result"
    }
   ],
   "source": [
    "df_social[\"puesto de trabajo\"].value_counts()"
   ]
  }
 ],
 "metadata": {
  "kernelspec": {
   "display_name": "Python 3.9.7 ('base')",
   "language": "python",
   "name": "python3"
  },
  "language_info": {
   "codemirror_mode": {
    "name": "ipython",
    "version": 3
   },
   "file_extension": ".py",
   "mimetype": "text/x-python",
   "name": "python",
   "nbconvert_exporter": "python",
   "pygments_lexer": "ipython3",
   "version": "3.9.7"
  },
  "orig_nbformat": 4,
  "vscode": {
   "interpreter": {
    "hash": "a132548e790cb25f951c67ed157520233be95043d6eb3836371ed4d98e90df31"
   }
  }
 },
 "nbformat": 4,
 "nbformat_minor": 2
}
